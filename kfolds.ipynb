{
 "cells": [
  {
   "cell_type": "code",
   "execution_count": 2,
   "id": "e11fee60",
   "metadata": {},
   "outputs": [
    {
     "name": "stdout",
     "output_type": "stream",
     "text": [
      "Accuracy: 0.850 (0.128)\n"
     ]
    }
   ],
   "source": [
    "# evaluate a logistic regression model using k-fold cross-validation\n",
    "from numpy import mean\n",
    "from numpy import std\n",
    "from sklearn.datasets import make_classification\n",
    "from sklearn.model_selection import KFold\n",
    "from sklearn.model_selection import cross_val_score\n",
    "from sklearn.linear_model import LogisticRegression\n",
    "# create dataset\n",
    "X, y = make_classification(n_samples=100, n_features=20, n_informative=15, n_redundant=5, random_state=1)\n",
    "# prepare the cross-validation procedure\n",
    "cv = KFold(n_splits=10, random_state=1, shuffle=True)\n",
    "# create model\n",
    "model = LogisticRegression()\n",
    "# evaluate model\n",
    "scores = cross_val_score(model, X, y, scoring='accuracy', cv=cv, n_jobs=-1)\n",
    "# report performance\n",
    "print('Accuracy: %.3f (%.3f)' % (mean(scores), std(scores)))"
   ]
  },
  {
   "cell_type": "code",
   "execution_count": 3,
   "id": "4d1dc1d6",
   "metadata": {},
   "outputs": [
    {
     "name": "stdout",
     "output_type": "stream",
     "text": [
      ">LogisticRegression: ideal=0.840, cv=0.850\n",
      ">RidgeClassifier: ideal=0.830, cv=0.830\n",
      ">SGDClassifier: ideal=0.730, cv=0.710\n",
      ">PassiveAggressiveClassifier: ideal=0.790, cv=0.750\n",
      ">KNeighborsClassifier: ideal=0.760, cv=0.770\n",
      ">DecisionTreeClassifier: ideal=0.720, cv=0.630\n",
      ">ExtraTreeClassifier: ideal=0.710, cv=0.620\n",
      ">LinearSVC: ideal=0.820, cv=0.840\n",
      ">SVC: ideal=0.900, cv=0.880\n",
      ">GaussianNB: ideal=0.730, cv=0.720\n",
      ">AdaBoostClassifier: ideal=0.740, cv=0.740\n",
      ">BaggingClassifier: ideal=0.760, cv=0.720\n",
      ">RandomForestClassifier: ideal=0.800, cv=0.780\n",
      ">ExtraTreesClassifier: ideal=0.790, cv=0.750\n",
      ">GaussianProcessClassifier: ideal=0.790, cv=0.760\n",
      ">GradientBoostingClassifier: ideal=0.820, cv=0.810\n",
      ">LinearDiscriminantAnalysis: ideal=0.830, cv=0.830\n",
      ">QuadraticDiscriminantAnalysis: ideal=0.740, cv=0.670\n",
      "Correlation: 0.928\n"
     ]
    },
    {
     "data": {
      "image/png": "[encoded data removed]",
      "text/plain": [
       "<Figure size 432x288 with 1 Axes>"
      ]
     },
     "metadata": {
      "needs_background": "light"
     },
     "output_type": "display_data"
    }
   ],
   "source": [
    "# correlation between test harness and ideal test condition\n",
    "from numpy import mean\n",
    "from numpy import isnan\n",
    "from numpy import asarray\n",
    "from numpy import polyfit\n",
    "from scipy.stats import pearsonr\n",
    "from matplotlib import pyplot\n",
    "from sklearn.datasets import make_classification\n",
    "from sklearn.model_selection import KFold\n",
    "from sklearn.model_selection import LeaveOneOut\n",
    "from sklearn.model_selection import cross_val_score\n",
    "from sklearn.linear_model import LogisticRegression\n",
    "from sklearn.linear_model import RidgeClassifier\n",
    "from sklearn.linear_model import SGDClassifier\n",
    "from sklearn.linear_model import PassiveAggressiveClassifier\n",
    "from sklearn.neighbors import KNeighborsClassifier\n",
    "from sklearn.tree import DecisionTreeClassifier\n",
    "from sklearn.tree import ExtraTreeClassifier\n",
    "from sklearn.svm import LinearSVC\n",
    "from sklearn.svm import SVC\n",
    "from sklearn.naive_bayes import GaussianNB\n",
    "from sklearn.ensemble import AdaBoostClassifier\n",
    "from sklearn.ensemble import BaggingClassifier\n",
    "from sklearn.ensemble import RandomForestClassifier\n",
    "from sklearn.ensemble import ExtraTreesClassifier\n",
    "from sklearn.gaussian_process import GaussianProcessClassifier\n",
    "from sklearn.ensemble import GradientBoostingClassifier\n",
    "from sklearn.discriminant_analysis import LinearDiscriminantAnalysis\n",
    "from sklearn.discriminant_analysis import QuadraticDiscriminantAnalysis\n",
    " \n",
    "# create the dataset\n",
    "def get_dataset(n_samples=100):\n",
    "\tX, y = make_classification(n_samples=n_samples, n_features=20, n_informative=15, n_redundant=5, random_state=1)\n",
    "\treturn X, y\n",
    " \n",
    "# get a list of models to evaluate\n",
    "def get_models():\n",
    "\tmodels = list()\n",
    "\tmodels.append(LogisticRegression())\n",
    "\tmodels.append(RidgeClassifier())\n",
    "\tmodels.append(SGDClassifier())\n",
    "\tmodels.append(PassiveAggressiveClassifier())\n",
    "\tmodels.append(KNeighborsClassifier())\n",
    "\tmodels.append(DecisionTreeClassifier())\n",
    "\tmodels.append(ExtraTreeClassifier())\n",
    "\tmodels.append(LinearSVC())\n",
    "\tmodels.append(SVC())\n",
    "\tmodels.append(GaussianNB())\n",
    "\tmodels.append(AdaBoostClassifier())\n",
    "\tmodels.append(BaggingClassifier())\n",
    "\tmodels.append(RandomForestClassifier())\n",
    "\tmodels.append(ExtraTreesClassifier())\n",
    "\tmodels.append(GaussianProcessClassifier())\n",
    "\tmodels.append(GradientBoostingClassifier())\n",
    "\tmodels.append(LinearDiscriminantAnalysis())\n",
    "\tmodels.append(QuadraticDiscriminantAnalysis())\n",
    "\treturn models\n",
    " \n",
    "# evaluate the model using a given test condition\n",
    "def evaluate_model(cv, model):\n",
    "\t# get the dataset\n",
    "\tX, y = get_dataset()\n",
    "\t# evaluate the model\n",
    "\tscores = cross_val_score(model, X, y, scoring='accuracy', cv=cv, n_jobs=-1)\n",
    "\t# return scores\n",
    "\treturn mean(scores)\n",
    " \n",
    "# define test conditions\n",
    "ideal_cv = LeaveOneOut()\n",
    "cv = KFold(n_splits=10, shuffle=True, random_state=1)\n",
    "# get the list of models to consider\n",
    "models = get_models()\n",
    "# collect results\n",
    "ideal_results, cv_results = list(), list()\n",
    "# evaluate each model\n",
    "for model in models:\n",
    "\t# evaluate model using each test condition\n",
    "\tcv_mean = evaluate_model(cv, model)\n",
    "\tideal_mean = evaluate_model(ideal_cv, model)\n",
    "\t# check for invalid results\n",
    "\tif isnan(cv_mean) or isnan(ideal_mean):\n",
    "\t\tcontinue\n",
    "\t# store results\n",
    "\tcv_results.append(cv_mean)\n",
    "\tideal_results.append(ideal_mean)\n",
    "\t# summarize progress\n",
    "\tprint('>%s: ideal=%.3f, cv=%.3f' % (type(model).__name__, ideal_mean, cv_mean))\n",
    "# calculate the correlation between each test condition\n",
    "corr, _ = pearsonr(cv_results, ideal_results)\n",
    "print('Correlation: %.3f' % corr)\n",
    "# scatter plot of results\n",
    "pyplot.scatter(cv_results, ideal_results)\n",
    "# plot the line of best fit\n",
    "coeff, bias = polyfit(cv_results, ideal_results, 1)\n",
    "line = coeff * asarray(cv_results) + bias\n",
    "pyplot.plot(cv_results, line, color='r')\n",
    "# label the plot\n",
    "pyplot.title('10-fold CV vs LOOCV Mean Accuracy')\n",
    "pyplot.xlabel('Mean Accuracy (10-fold CV)')\n",
    "pyplot.ylabel('Mean Accuracy (LOOCV)')\n",
    "# show the plot\n",
    "pyplot.show()"
   ]
  },
  {
   "cell_type": "code",
   "execution_count": null,
   "id": "abce4831",
   "metadata": {},
   "outputs": [],
   "source": []
  }
 ],
 "metadata": {
  "kernelspec": {
   "display_name": "Python 3 (ipykernel)",
   "language": "python",
   "name": "python3"
  },
  "language_info": {
   "codemirror_mode": {
    "name": "ipython",
    "version": 3
   },
   "file_extension": ".py",
   "mimetype": "text/x-python",
   "name": "python",
   "nbconvert_exporter": "python",
   "pygments_lexer": "ipython3",
   "version": "3.9.7"
  }
 },
 "nbformat": 4,
 "nbformat_minor": 5
}
